{
 "cells": [
  {
   "cell_type": "code",
   "execution_count": 1,
   "id": "714f38fb",
   "metadata": {},
   "outputs": [],
   "source": [
    "import numpy as np\n",
    "import pandas as pd"
   ]
  },
  {
   "cell_type": "code",
   "execution_count": 2,
   "id": "a5f05e0f",
   "metadata": {},
   "outputs": [],
   "source": [
    "df=pd.read_csv(r\"C:\\Users\\rohit\\OneDrive\\Desktop\\RAJAT'S WORK\\FRAUD DETECTION\\data.csv\")\n",
    "df1=pd.read_csv(r\"C:\\Users\\rohit\\OneDrive\\Desktop\\RAJAT'S WORK\\FRAUD DETECTION\\block.csv\")"
   ]
  },
  {
   "cell_type": "code",
   "execution_count": 3,
   "id": "edcb0fae",
   "metadata": {},
   "outputs": [
    {
     "data": {
      "text/plain": [
       "(206052, 23)"
      ]
     },
     "execution_count": 3,
     "metadata": {},
     "output_type": "execute_result"
    }
   ],
   "source": [
    "df.shape"
   ]
  },
  {
   "cell_type": "code",
   "execution_count": 4,
   "id": "c19d59b6",
   "metadata": {},
   "outputs": [
    {
     "data": {
      "text/plain": [
       "(55618, 26)"
      ]
     },
     "execution_count": 4,
     "metadata": {},
     "output_type": "execute_result"
    }
   ],
   "source": [
    "df1.shape"
   ]
  },
  {
   "cell_type": "code",
   "execution_count": 5,
   "id": "fb3d9a6f",
   "metadata": {},
   "outputs": [],
   "source": [
    "blocked_sample=df1\n",
    "unblocked_sample=df.sample(n=55618)"
   ]
  },
  {
   "cell_type": "code",
   "execution_count": 6,
   "id": "e3b85e18",
   "metadata": {},
   "outputs": [
    {
     "name": "stdout",
     "output_type": "stream",
     "text": [
      "the shape of blocked data is  (55618, 26)\n",
      "the shape of unblocked data is  (55618, 23)\n"
     ]
    }
   ],
   "source": [
    "print(\"the shape of blocked data is \",blocked_sample.shape)\n",
    "print(\"the shape of unblocked data is \",unblocked_sample.shape)"
   ]
  },
  {
   "cell_type": "code",
   "execution_count": 7,
   "id": "a41f3549",
   "metadata": {},
   "outputs": [
    {
     "data": {
      "text/plain": [
       "Index(['USERIDs', 'JoiningFeeCount', 'AppLaunchCount', 'DaysSpent',\n",
       "       'PayTmLink', 'FreeGamePlayedCount', 'FreeGamePlayedAmount',\n",
       "       'PaidGamePlayedCount', 'PaidGamePlayedAmount', 'FantasyGameCount',\n",
       "       'FantasyGameAmount', 'PokerGameCount', 'PokerGameAmount',\n",
       "       'RummyGameCount', 'RummyGameAmount', 'CallBreakGameCount',\n",
       "       'CallBreakGameAmount', 'DepositCount', 'DepositAmount', 'RedeemCount',\n",
       "       'RedeemAmount', 'PaidGamePlayedWinRatio', 'PaidGamePlayedLossRatio'],\n",
       "      dtype='object')"
      ]
     },
     "execution_count": 7,
     "metadata": {},
     "output_type": "execute_result"
    }
   ],
   "source": [
    "unblocked_sample.columns"
   ]
  },
  {
   "cell_type": "code",
   "execution_count": 8,
   "id": "83cb4a75",
   "metadata": {},
   "outputs": [
    {
     "data": {
      "text/plain": [
       "Index(['USERIDs', 'JoiningFeeCount', 'JoiningFeeAmount', 'AppLaunchCount',\n",
       "       'DaysSpent', 'PayTmLink', 'FreeGameAllowed', 'FreeGamePlayed',\n",
       "       'PaidGamePlayedCount', 'PaidGamePlayedAmount', 'FantasyGameCount',\n",
       "       'FantasyGameAmount', 'PokerGameCount', 'PokerGameAmount',\n",
       "       'RummyGameCount', 'RummyGameAmount', 'CallBreakGameCount',\n",
       "       'CallBreakGameAmount', 'DepositCount', 'DepositAmount', 'RedeemCount',\n",
       "       'RedeemAmount', 'PaidGamePlayedWinRatio', 'PaidGamePlayedLossRatio',\n",
       "       'CasualGameCount', 'CasualGameAmount'],\n",
       "      dtype='object')"
      ]
     },
     "execution_count": 8,
     "metadata": {},
     "output_type": "execute_result"
    }
   ],
   "source": [
    "blocked_sample.columns"
   ]
  },
  {
   "cell_type": "code",
   "execution_count": 9,
   "id": "feedbb6a",
   "metadata": {},
   "outputs": [],
   "source": [
    "blocked_sample.drop(['CasualGameCount', 'CasualGameAmount','JoiningFeeAmount'],axis=1,inplace=True)"
   ]
  },
  {
   "cell_type": "code",
   "execution_count": 10,
   "id": "cac0afef",
   "metadata": {},
   "outputs": [
    {
     "name": "stdout",
     "output_type": "stream",
     "text": [
      "the shape of blocked data is  (55618, 23)\n",
      "the shape of unblocked data is  (55618, 23)\n"
     ]
    }
   ],
   "source": [
    "print(\"the shape of blocked data is \",blocked_sample.shape)\n",
    "print(\"the shape of unblocked data is \",unblocked_sample.shape)"
   ]
  },
  {
   "cell_type": "code",
   "execution_count": 11,
   "id": "1863ba62",
   "metadata": {},
   "outputs": [
    {
     "data": {
      "text/plain": [
       "Index(['USERIDs', 'JoiningFeeCount', 'AppLaunchCount', 'DaysSpent',\n",
       "       'PayTmLink', 'FreeGamePlayedCount', 'FreeGamePlayedAmount',\n",
       "       'PaidGamePlayedCount', 'PaidGamePlayedAmount', 'FantasyGameCount',\n",
       "       'FantasyGameAmount', 'PokerGameCount', 'PokerGameAmount',\n",
       "       'RummyGameCount', 'RummyGameAmount', 'CallBreakGameCount',\n",
       "       'CallBreakGameAmount', 'DepositCount', 'DepositAmount', 'RedeemCount',\n",
       "       'RedeemAmount', 'PaidGamePlayedWinRatio', 'PaidGamePlayedLossRatio'],\n",
       "      dtype='object')"
      ]
     },
     "execution_count": 11,
     "metadata": {},
     "output_type": "execute_result"
    }
   ],
   "source": [
    "unblocked_sample.columns"
   ]
  },
  {
   "cell_type": "code",
   "execution_count": 12,
   "id": "e423a425",
   "metadata": {},
   "outputs": [
    {
     "data": {
      "text/plain": [
       "Index(['USERIDs', 'JoiningFeeCount', 'AppLaunchCount', 'DaysSpent',\n",
       "       'PayTmLink', 'FreeGameAllowed', 'FreeGamePlayed', 'PaidGamePlayedCount',\n",
       "       'PaidGamePlayedAmount', 'FantasyGameCount', 'FantasyGameAmount',\n",
       "       'PokerGameCount', 'PokerGameAmount', 'RummyGameCount',\n",
       "       'RummyGameAmount', 'CallBreakGameCount', 'CallBreakGameAmount',\n",
       "       'DepositCount', 'DepositAmount', 'RedeemCount', 'RedeemAmount',\n",
       "       'PaidGamePlayedWinRatio', 'PaidGamePlayedLossRatio'],\n",
       "      dtype='object')"
      ]
     },
     "execution_count": 12,
     "metadata": {},
     "output_type": "execute_result"
    }
   ],
   "source": [
    "blocked_sample.columns"
   ]
  },
  {
   "cell_type": "code",
   "execution_count": 13,
   "id": "507264e7",
   "metadata": {},
   "outputs": [],
   "source": [
    "unblocked_sample.drop(['FreeGamePlayedCount','FreeGamePlayedAmount'],axis=1,inplace=True)"
   ]
  },
  {
   "cell_type": "code",
   "execution_count": 14,
   "id": "a3e6b11c",
   "metadata": {},
   "outputs": [],
   "source": [
    "blocked_sample.drop(['FreeGameAllowed', 'FreeGamePlayed'],axis=1,inplace=True)"
   ]
  },
  {
   "cell_type": "code",
   "execution_count": 15,
   "id": "74ee2bc9",
   "metadata": {},
   "outputs": [
    {
     "name": "stdout",
     "output_type": "stream",
     "text": [
      "the shape of blocked data is  (55618, 21)\n",
      "the shape of unblocked data is  (55618, 21)\n"
     ]
    }
   ],
   "source": [
    "print(\"the shape of blocked data is \",blocked_sample.shape)\n",
    "print(\"the shape of unblocked data is \",unblocked_sample.shape)"
   ]
  },
  {
   "cell_type": "code",
   "execution_count": 16,
   "id": "68ef1ba9",
   "metadata": {},
   "outputs": [],
   "source": [
    "unblocked_sample['Result'] = pd.Series([0 for x in range(len(unblocked_sample.index))])\n",
    "blocked_sample['Result'] = pd.Series([1 for x in range(len(blocked_sample.index))])"
   ]
  },
  {
   "cell_type": "code",
   "execution_count": 17,
   "id": "aa19a9e1",
   "metadata": {},
   "outputs": [
    {
     "data": {
      "text/html": [
       "<div>\n",
       "<style scoped>\n",
       "    .dataframe tbody tr th:only-of-type {\n",
       "        vertical-align: middle;\n",
       "    }\n",
       "\n",
       "    .dataframe tbody tr th {\n",
       "        vertical-align: top;\n",
       "    }\n",
       "\n",
       "    .dataframe thead th {\n",
       "        text-align: right;\n",
       "    }\n",
       "</style>\n",
       "<table border=\"1\" class=\"dataframe\">\n",
       "  <thead>\n",
       "    <tr style=\"text-align: right;\">\n",
       "      <th></th>\n",
       "      <th>USERIDs</th>\n",
       "      <th>JoiningFeeCount</th>\n",
       "      <th>AppLaunchCount</th>\n",
       "      <th>DaysSpent</th>\n",
       "      <th>PayTmLink</th>\n",
       "      <th>PaidGamePlayedCount</th>\n",
       "      <th>PaidGamePlayedAmount</th>\n",
       "      <th>FantasyGameCount</th>\n",
       "      <th>FantasyGameAmount</th>\n",
       "      <th>PokerGameCount</th>\n",
       "      <th>...</th>\n",
       "      <th>RummyGameAmount</th>\n",
       "      <th>CallBreakGameCount</th>\n",
       "      <th>CallBreakGameAmount</th>\n",
       "      <th>DepositCount</th>\n",
       "      <th>DepositAmount</th>\n",
       "      <th>RedeemCount</th>\n",
       "      <th>RedeemAmount</th>\n",
       "      <th>PaidGamePlayedWinRatio</th>\n",
       "      <th>PaidGamePlayedLossRatio</th>\n",
       "      <th>Result</th>\n",
       "    </tr>\n",
       "  </thead>\n",
       "  <tbody>\n",
       "    <tr>\n",
       "      <th>192931</th>\n",
       "      <td>127876425</td>\n",
       "      <td>0</td>\n",
       "      <td>2</td>\n",
       "      <td>4</td>\n",
       "      <td>0</td>\n",
       "      <td>0</td>\n",
       "      <td>0</td>\n",
       "      <td>0</td>\n",
       "      <td>0</td>\n",
       "      <td>0</td>\n",
       "      <td>...</td>\n",
       "      <td>0</td>\n",
       "      <td>0</td>\n",
       "      <td>0</td>\n",
       "      <td>0</td>\n",
       "      <td>0</td>\n",
       "      <td>0</td>\n",
       "      <td>0</td>\n",
       "      <td>0.0</td>\n",
       "      <td>0.0</td>\n",
       "      <td>NaN</td>\n",
       "    </tr>\n",
       "    <tr>\n",
       "      <th>176210</th>\n",
       "      <td>127859233</td>\n",
       "      <td>0</td>\n",
       "      <td>1</td>\n",
       "      <td>0</td>\n",
       "      <td>0</td>\n",
       "      <td>0</td>\n",
       "      <td>0</td>\n",
       "      <td>0</td>\n",
       "      <td>0</td>\n",
       "      <td>0</td>\n",
       "      <td>...</td>\n",
       "      <td>0</td>\n",
       "      <td>0</td>\n",
       "      <td>0</td>\n",
       "      <td>0</td>\n",
       "      <td>0</td>\n",
       "      <td>0</td>\n",
       "      <td>0</td>\n",
       "      <td>0.0</td>\n",
       "      <td>0.0</td>\n",
       "      <td>NaN</td>\n",
       "    </tr>\n",
       "    <tr>\n",
       "      <th>78409</th>\n",
       "      <td>127759302</td>\n",
       "      <td>0</td>\n",
       "      <td>2</td>\n",
       "      <td>0</td>\n",
       "      <td>0</td>\n",
       "      <td>0</td>\n",
       "      <td>0</td>\n",
       "      <td>0</td>\n",
       "      <td>0</td>\n",
       "      <td>0</td>\n",
       "      <td>...</td>\n",
       "      <td>0</td>\n",
       "      <td>0</td>\n",
       "      <td>0</td>\n",
       "      <td>0</td>\n",
       "      <td>0</td>\n",
       "      <td>0</td>\n",
       "      <td>0</td>\n",
       "      <td>0.0</td>\n",
       "      <td>0.0</td>\n",
       "      <td>NaN</td>\n",
       "    </tr>\n",
       "    <tr>\n",
       "      <th>9739</th>\n",
       "      <td>127689178</td>\n",
       "      <td>1</td>\n",
       "      <td>5</td>\n",
       "      <td>1</td>\n",
       "      <td>1</td>\n",
       "      <td>0</td>\n",
       "      <td>0</td>\n",
       "      <td>0</td>\n",
       "      <td>0</td>\n",
       "      <td>0</td>\n",
       "      <td>...</td>\n",
       "      <td>0</td>\n",
       "      <td>0</td>\n",
       "      <td>0</td>\n",
       "      <td>0</td>\n",
       "      <td>0</td>\n",
       "      <td>0</td>\n",
       "      <td>0</td>\n",
       "      <td>0.0</td>\n",
       "      <td>0.0</td>\n",
       "      <td>0.0</td>\n",
       "    </tr>\n",
       "    <tr>\n",
       "      <th>123306</th>\n",
       "      <td>127805128</td>\n",
       "      <td>0</td>\n",
       "      <td>6</td>\n",
       "      <td>36</td>\n",
       "      <td>0</td>\n",
       "      <td>0</td>\n",
       "      <td>0</td>\n",
       "      <td>0</td>\n",
       "      <td>0</td>\n",
       "      <td>0</td>\n",
       "      <td>...</td>\n",
       "      <td>0</td>\n",
       "      <td>0</td>\n",
       "      <td>0</td>\n",
       "      <td>0</td>\n",
       "      <td>0</td>\n",
       "      <td>0</td>\n",
       "      <td>0</td>\n",
       "      <td>0.0</td>\n",
       "      <td>0.0</td>\n",
       "      <td>NaN</td>\n",
       "    </tr>\n",
       "    <tr>\n",
       "      <th>...</th>\n",
       "      <td>...</td>\n",
       "      <td>...</td>\n",
       "      <td>...</td>\n",
       "      <td>...</td>\n",
       "      <td>...</td>\n",
       "      <td>...</td>\n",
       "      <td>...</td>\n",
       "      <td>...</td>\n",
       "      <td>...</td>\n",
       "      <td>...</td>\n",
       "      <td>...</td>\n",
       "      <td>...</td>\n",
       "      <td>...</td>\n",
       "      <td>...</td>\n",
       "      <td>...</td>\n",
       "      <td>...</td>\n",
       "      <td>...</td>\n",
       "      <td>...</td>\n",
       "      <td>...</td>\n",
       "      <td>...</td>\n",
       "      <td>...</td>\n",
       "    </tr>\n",
       "    <tr>\n",
       "      <th>71743</th>\n",
       "      <td>127752482</td>\n",
       "      <td>1</td>\n",
       "      <td>4</td>\n",
       "      <td>1</td>\n",
       "      <td>1</td>\n",
       "      <td>0</td>\n",
       "      <td>0</td>\n",
       "      <td>0</td>\n",
       "      <td>0</td>\n",
       "      <td>0</td>\n",
       "      <td>...</td>\n",
       "      <td>0</td>\n",
       "      <td>0</td>\n",
       "      <td>0</td>\n",
       "      <td>0</td>\n",
       "      <td>0</td>\n",
       "      <td>0</td>\n",
       "      <td>0</td>\n",
       "      <td>0.0</td>\n",
       "      <td>0.0</td>\n",
       "      <td>NaN</td>\n",
       "    </tr>\n",
       "    <tr>\n",
       "      <th>3718</th>\n",
       "      <td>127683036</td>\n",
       "      <td>0</td>\n",
       "      <td>23</td>\n",
       "      <td>43</td>\n",
       "      <td>1</td>\n",
       "      <td>0</td>\n",
       "      <td>0</td>\n",
       "      <td>0</td>\n",
       "      <td>0</td>\n",
       "      <td>0</td>\n",
       "      <td>...</td>\n",
       "      <td>0</td>\n",
       "      <td>0</td>\n",
       "      <td>0</td>\n",
       "      <td>0</td>\n",
       "      <td>0</td>\n",
       "      <td>0</td>\n",
       "      <td>0</td>\n",
       "      <td>0.0</td>\n",
       "      <td>0.0</td>\n",
       "      <td>0.0</td>\n",
       "    </tr>\n",
       "    <tr>\n",
       "      <th>204565</th>\n",
       "      <td>127888280</td>\n",
       "      <td>1</td>\n",
       "      <td>1</td>\n",
       "      <td>0</td>\n",
       "      <td>1</td>\n",
       "      <td>0</td>\n",
       "      <td>0</td>\n",
       "      <td>0</td>\n",
       "      <td>0</td>\n",
       "      <td>0</td>\n",
       "      <td>...</td>\n",
       "      <td>0</td>\n",
       "      <td>0</td>\n",
       "      <td>0</td>\n",
       "      <td>0</td>\n",
       "      <td>0</td>\n",
       "      <td>0</td>\n",
       "      <td>0</td>\n",
       "      <td>0.0</td>\n",
       "      <td>0.0</td>\n",
       "      <td>NaN</td>\n",
       "    </tr>\n",
       "    <tr>\n",
       "      <th>152534</th>\n",
       "      <td>127834980</td>\n",
       "      <td>0</td>\n",
       "      <td>135</td>\n",
       "      <td>42</td>\n",
       "      <td>1</td>\n",
       "      <td>0</td>\n",
       "      <td>0</td>\n",
       "      <td>0</td>\n",
       "      <td>0</td>\n",
       "      <td>29</td>\n",
       "      <td>...</td>\n",
       "      <td>0</td>\n",
       "      <td>76</td>\n",
       "      <td>297</td>\n",
       "      <td>0</td>\n",
       "      <td>0</td>\n",
       "      <td>0</td>\n",
       "      <td>0</td>\n",
       "      <td>0.0</td>\n",
       "      <td>0.0</td>\n",
       "      <td>NaN</td>\n",
       "    </tr>\n",
       "    <tr>\n",
       "      <th>119652</th>\n",
       "      <td>127801393</td>\n",
       "      <td>0</td>\n",
       "      <td>29</td>\n",
       "      <td>9</td>\n",
       "      <td>1</td>\n",
       "      <td>0</td>\n",
       "      <td>0</td>\n",
       "      <td>0</td>\n",
       "      <td>0</td>\n",
       "      <td>0</td>\n",
       "      <td>...</td>\n",
       "      <td>0</td>\n",
       "      <td>0</td>\n",
       "      <td>0</td>\n",
       "      <td>0</td>\n",
       "      <td>0</td>\n",
       "      <td>0</td>\n",
       "      <td>0</td>\n",
       "      <td>0.0</td>\n",
       "      <td>0.0</td>\n",
       "      <td>NaN</td>\n",
       "    </tr>\n",
       "  </tbody>\n",
       "</table>\n",
       "<p>55618 rows × 22 columns</p>\n",
       "</div>"
      ],
      "text/plain": [
       "          USERIDs  JoiningFeeCount  AppLaunchCount  DaysSpent  PayTmLink  \\\n",
       "192931  127876425                0               2          4          0   \n",
       "176210  127859233                0               1          0          0   \n",
       "78409   127759302                0               2          0          0   \n",
       "9739    127689178                1               5          1          1   \n",
       "123306  127805128                0               6         36          0   \n",
       "...           ...              ...             ...        ...        ...   \n",
       "71743   127752482                1               4          1          1   \n",
       "3718    127683036                0              23         43          1   \n",
       "204565  127888280                1               1          0          1   \n",
       "152534  127834980                0             135         42          1   \n",
       "119652  127801393                0              29          9          1   \n",
       "\n",
       "        PaidGamePlayedCount  PaidGamePlayedAmount  FantasyGameCount  \\\n",
       "192931                    0                     0                 0   \n",
       "176210                    0                     0                 0   \n",
       "78409                     0                     0                 0   \n",
       "9739                      0                     0                 0   \n",
       "123306                    0                     0                 0   \n",
       "...                     ...                   ...               ...   \n",
       "71743                     0                     0                 0   \n",
       "3718                      0                     0                 0   \n",
       "204565                    0                     0                 0   \n",
       "152534                    0                     0                 0   \n",
       "119652                    0                     0                 0   \n",
       "\n",
       "        FantasyGameAmount  PokerGameCount  ...  RummyGameAmount  \\\n",
       "192931                  0               0  ...                0   \n",
       "176210                  0               0  ...                0   \n",
       "78409                   0               0  ...                0   \n",
       "9739                    0               0  ...                0   \n",
       "123306                  0               0  ...                0   \n",
       "...                   ...             ...  ...              ...   \n",
       "71743                   0               0  ...                0   \n",
       "3718                    0               0  ...                0   \n",
       "204565                  0               0  ...                0   \n",
       "152534                  0              29  ...                0   \n",
       "119652                  0               0  ...                0   \n",
       "\n",
       "        CallBreakGameCount  CallBreakGameAmount  DepositCount  DepositAmount  \\\n",
       "192931                   0                    0             0              0   \n",
       "176210                   0                    0             0              0   \n",
       "78409                    0                    0             0              0   \n",
       "9739                     0                    0             0              0   \n",
       "123306                   0                    0             0              0   \n",
       "...                    ...                  ...           ...            ...   \n",
       "71743                    0                    0             0              0   \n",
       "3718                     0                    0             0              0   \n",
       "204565                   0                    0             0              0   \n",
       "152534                  76                  297             0              0   \n",
       "119652                   0                    0             0              0   \n",
       "\n",
       "        RedeemCount  RedeemAmount  PaidGamePlayedWinRatio  \\\n",
       "192931            0             0                     0.0   \n",
       "176210            0             0                     0.0   \n",
       "78409             0             0                     0.0   \n",
       "9739              0             0                     0.0   \n",
       "123306            0             0                     0.0   \n",
       "...             ...           ...                     ...   \n",
       "71743             0             0                     0.0   \n",
       "3718              0             0                     0.0   \n",
       "204565            0             0                     0.0   \n",
       "152534            0             0                     0.0   \n",
       "119652            0             0                     0.0   \n",
       "\n",
       "        PaidGamePlayedLossRatio  Result  \n",
       "192931                      0.0     NaN  \n",
       "176210                      0.0     NaN  \n",
       "78409                       0.0     NaN  \n",
       "9739                        0.0     0.0  \n",
       "123306                      0.0     NaN  \n",
       "...                         ...     ...  \n",
       "71743                       0.0     NaN  \n",
       "3718                        0.0     0.0  \n",
       "204565                      0.0     NaN  \n",
       "152534                      0.0     NaN  \n",
       "119652                      0.0     NaN  \n",
       "\n",
       "[55618 rows x 22 columns]"
      ]
     },
     "execution_count": 17,
     "metadata": {},
     "output_type": "execute_result"
    }
   ],
   "source": [
    "unblocked_sample"
   ]
  },
  {
   "cell_type": "code",
   "execution_count": 21,
   "id": "64ca302e",
   "metadata": {},
   "outputs": [
    {
     "name": "stdout",
     "output_type": "stream",
     "text": [
      "<class 'pandas.core.frame.DataFrame'>\n",
      "Int64Index: 55618 entries, 192931 to 119652\n",
      "Data columns (total 22 columns):\n",
      " #   Column                   Non-Null Count  Dtype  \n",
      "---  ------                   --------------  -----  \n",
      " 0   USERIDs                  55618 non-null  int64  \n",
      " 1   JoiningFeeCount          55618 non-null  int64  \n",
      " 2   AppLaunchCount           55618 non-null  int64  \n",
      " 3   DaysSpent                55618 non-null  int64  \n",
      " 4   PayTmLink                55618 non-null  int64  \n",
      " 5   PaidGamePlayedCount      55618 non-null  int64  \n",
      " 6   PaidGamePlayedAmount     55618 non-null  int64  \n",
      " 7   FantasyGameCount         55618 non-null  int64  \n",
      " 8   FantasyGameAmount        55618 non-null  int64  \n",
      " 9   PokerGameCount           55618 non-null  int64  \n",
      " 10  PokerGameAmount          55618 non-null  int64  \n",
      " 11  RummyGameCount           55618 non-null  int64  \n",
      " 12  RummyGameAmount          55618 non-null  int64  \n",
      " 13  CallBreakGameCount       55618 non-null  int64  \n",
      " 14  CallBreakGameAmount      55618 non-null  int64  \n",
      " 15  DepositCount             55618 non-null  int64  \n",
      " 16  DepositAmount            55618 non-null  int64  \n",
      " 17  RedeemCount              55618 non-null  int64  \n",
      " 18  RedeemAmount             55618 non-null  int64  \n",
      " 19  PaidGamePlayedWinRatio   55618 non-null  float64\n",
      " 20  PaidGamePlayedLossRatio  55618 non-null  float64\n",
      " 21  Result                   14975 non-null  float64\n",
      "dtypes: float64(3), int64(19)\n",
      "memory usage: 9.8 MB\n"
     ]
    }
   ],
   "source": [
    "unblocked_sample.info()"
   ]
  },
  {
   "cell_type": "code",
   "execution_count": 24,
   "id": "b1cb53cf",
   "metadata": {},
   "outputs": [],
   "source": [
    "unblocked_sample['Result'].fillna(0, inplace=True)\n",
    "unblocked_sample['Result'] = unblocked_sample['Result'].astype('int')"
   ]
  },
  {
   "cell_type": "code",
   "execution_count": 25,
   "id": "d89d4472",
   "metadata": {},
   "outputs": [],
   "source": [
    "blocked_sample['Result'].fillna(1, inplace=True)\n",
    "blocked_sample['Result'] = blocked_sample['Result'].astype('int')"
   ]
  },
  {
   "cell_type": "code",
   "execution_count": 26,
   "id": "0066f603",
   "metadata": {},
   "outputs": [
    {
     "data": {
      "text/plain": [
       "0    55618\n",
       "Name: Result, dtype: int64"
      ]
     },
     "execution_count": 26,
     "metadata": {},
     "output_type": "execute_result"
    }
   ],
   "source": [
    "unblocked_sample['Result'].value_counts_counts()"
   ]
  },
  {
   "cell_type": "code",
   "execution_count": 28,
   "id": "cb86394b",
   "metadata": {},
   "outputs": [
    {
     "data": {
      "text/plain": [
       "1    55618\n",
       "Name: Result, dtype: int64"
      ]
     },
     "execution_count": 28,
     "metadata": {},
     "output_type": "execute_result"
    }
   ],
   "source": [
    "blocked_sample['Result'].value_counts()"
   ]
  },
  {
   "cell_type": "code",
   "execution_count": 35,
   "id": "9a20433d",
   "metadata": {},
   "outputs": [
    {
     "name": "stderr",
     "output_type": "stream",
     "text": [
      "C:\\Users\\rohit\\AppData\\Local\\Temp\\ipykernel_10780\\1931908960.py:1: FutureWarning: The frame.append method is deprecated and will be removed from pandas in a future version. Use pandas.concat instead.\n",
      "  FinalDataframe=unblocked_sample.append(blocked_sample)\n"
     ]
    }
   ],
   "source": [
    "FinalDataframe=unblocked_sample.append(blocked_sample)"
   ]
  },
  {
   "cell_type": "code",
   "execution_count": 39,
   "id": "25d9617a",
   "metadata": {},
   "outputs": [],
   "source": [
    "FinalDataframe.to_csv('newdata.csv')"
   ]
  },
  {
   "cell_type": "code",
   "execution_count": null,
   "id": "a510e520",
   "metadata": {},
   "outputs": [],
   "source": []
  }
 ],
 "metadata": {
  "kernelspec": {
   "display_name": "Python 3 (ipykernel)",
   "language": "python",
   "name": "python3"
  },
  "language_info": {
   "codemirror_mode": {
    "name": "ipython",
    "version": 3
   },
   "file_extension": ".py",
   "mimetype": "text/x-python",
   "name": "python",
   "nbconvert_exporter": "python",
   "pygments_lexer": "ipython3",
   "version": "3.9.12"
  }
 },
 "nbformat": 4,
 "nbformat_minor": 5
}
